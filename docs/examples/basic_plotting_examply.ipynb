{
 "cells": [
  {
   "cell_type": "code",
   "execution_count": 1,
   "metadata": {},
   "outputs": [
    {
     "ename": "FileNotFoundError",
     "evalue": "[Errno 2] No such file or directory: 'C:/trajectories/colgate'",
     "output_type": "error",
     "traceback": [
      "\u001b[0;31m---------------------------------------------------------------------------\u001b[0m",
      "\u001b[0;31mFileNotFoundError\u001b[0m                         Traceback (most recent call last)",
      "\u001b[0;32m/tmp/ipykernel_24778/3282457304.py\u001b[0m in \u001b[0;36m<module>\u001b[0;34m\u001b[0m\n\u001b[1;32m     13\u001b[0m \u001b[0;32mimport\u001b[0m \u001b[0mpysplit\u001b[0m\u001b[0;34m\u001b[0m\u001b[0;34m\u001b[0m\u001b[0m\n\u001b[1;32m     14\u001b[0m \u001b[0;34m\u001b[0m\u001b[0m\n\u001b[0;32m---> 15\u001b[0;31m \u001b[0mtrajgroup\u001b[0m \u001b[0;34m=\u001b[0m \u001b[0mpysplit\u001b[0m\u001b[0;34m.\u001b[0m\u001b[0mmake_trajectorygroup\u001b[0m\u001b[0;34m(\u001b[0m\u001b[0;34mr'C:/trajectories/colgate/*jan*'\u001b[0m\u001b[0;34m)\u001b[0m\u001b[0;34m\u001b[0m\u001b[0;34m\u001b[0m\u001b[0m\n\u001b[0m\u001b[1;32m     16\u001b[0m \u001b[0;34m\u001b[0m\u001b[0m\n\u001b[1;32m     17\u001b[0m \"\"\"\n",
      "\u001b[0;32m~/miniforge3/envs/pysplitenv/lib/python3.7/site-packages/pysplit/hy_processor.py\u001b[0m in \u001b[0;36mmake_trajectorygroup\u001b[0;34m(signature)\u001b[0m\n\u001b[1;32m     39\u001b[0m         \u001b[0mfolder\u001b[0m\u001b[0;34m,\u001b[0m \u001b[0m_\u001b[0m \u001b[0;34m=\u001b[0m \u001b[0mos\u001b[0m\u001b[0;34m.\u001b[0m\u001b[0mpath\u001b[0m\u001b[0;34m.\u001b[0m\u001b[0msplit\u001b[0m\u001b[0;34m(\u001b[0m\u001b[0msignature\u001b[0m\u001b[0;34m[\u001b[0m\u001b[0;36m0\u001b[0m\u001b[0;34m]\u001b[0m\u001b[0;34m)\u001b[0m\u001b[0;34m\u001b[0m\u001b[0;34m\u001b[0m\u001b[0m\n\u001b[1;32m     40\u001b[0m     \u001b[0;32melse\u001b[0m\u001b[0;34m:\u001b[0m\u001b[0;34m\u001b[0m\u001b[0;34m\u001b[0m\u001b[0m\n\u001b[0;32m---> 41\u001b[0;31m         \u001b[0mhyfiles\u001b[0m \u001b[0;34m=\u001b[0m \u001b[0mhysplit_filelister\u001b[0m\u001b[0;34m(\u001b[0m\u001b[0msignature\u001b[0m\u001b[0;34m)\u001b[0m\u001b[0;34m\u001b[0m\u001b[0;34m\u001b[0m\u001b[0m\n\u001b[0m\u001b[1;32m     42\u001b[0m         \u001b[0mfolder\u001b[0m\u001b[0;34m,\u001b[0m \u001b[0m_\u001b[0m \u001b[0;34m=\u001b[0m \u001b[0mos\u001b[0m\u001b[0;34m.\u001b[0m\u001b[0mpath\u001b[0m\u001b[0;34m.\u001b[0m\u001b[0msplit\u001b[0m\u001b[0;34m(\u001b[0m\u001b[0msignature\u001b[0m\u001b[0;34m)\u001b[0m\u001b[0;34m\u001b[0m\u001b[0;34m\u001b[0m\u001b[0m\n\u001b[1;32m     43\u001b[0m \u001b[0;34m\u001b[0m\u001b[0m\n",
      "\u001b[0;32m~/miniforge3/envs/pysplitenv/lib/python3.7/site-packages/pysplit/hyfile_handler.py\u001b[0m in \u001b[0;36mhysplit_filelister\u001b[0;34m(signature)\u001b[0m\n\u001b[1;32m     39\u001b[0m         \u001b[0mhead\u001b[0m\u001b[0;34m,\u001b[0m \u001b[0mtail\u001b[0m \u001b[0;34m=\u001b[0m \u001b[0mos\u001b[0m\u001b[0;34m.\u001b[0m\u001b[0mpath\u001b[0m\u001b[0;34m.\u001b[0m\u001b[0msplit\u001b[0m\u001b[0;34m(\u001b[0m\u001b[0msignature\u001b[0m\u001b[0;34m)\u001b[0m\u001b[0;34m\u001b[0m\u001b[0;34m\u001b[0m\u001b[0m\n\u001b[1;32m     40\u001b[0m \u001b[0;34m\u001b[0m\u001b[0m\n\u001b[0;32m---> 41\u001b[0;31m         \u001b[0mos\u001b[0m\u001b[0;34m.\u001b[0m\u001b[0mchdir\u001b[0m\u001b[0;34m(\u001b[0m\u001b[0mhead\u001b[0m\u001b[0;34m)\u001b[0m\u001b[0;34m\u001b[0m\u001b[0;34m\u001b[0m\u001b[0m\n\u001b[0m\u001b[1;32m     42\u001b[0m \u001b[0;34m\u001b[0m\u001b[0m\n\u001b[1;32m     43\u001b[0m         \u001b[0;31m# os.walk obtains list in top-down manner (files in order)\u001b[0m\u001b[0;34m\u001b[0m\u001b[0;34m\u001b[0m\u001b[0;34m\u001b[0m\u001b[0m\n",
      "\u001b[0;31mFileNotFoundError\u001b[0m: [Errno 2] No such file or directory: 'C:/trajectories/colgate'"
     ]
    }
   ],
   "source": [
    "\"\"\"\n",
    "=============================================\n",
    "Basic Trajectory Plotting and Using MapDesign\n",
    "=============================================\n",
    "\n",
    "How to quickly initialize a matplotlib Basemap with the ``MapDesign``\n",
    "class and plot ``Trajectory`` paths.\n",
    "\n",
    "For this example we'll initialize only the January trajectories created in\n",
    "``bulk_trajgen_example.py``.\n",
    "\n",
    "\"\"\"\n",
    "import pysplit\n",
    "\n",
    "trajgroup = pysplit.make_trajectorygroup(r'C:/trajectories/colgate/*jan*')\n",
    "\n",
    "\"\"\"\n",
    "Basemaps and MapDesign\n",
    "----------------------\n",
    "PySPLIT's ``MapDesign`` class uses the matplotlib Basemap toolkit to quickly\n",
    "set up attractive maps.  The user is not restricted to using maps\n",
    "produced from ``MapDesign``, however- any Basemap will serve in the section\n",
    "below entitled 'Plotting ``Trajectory`` Paths.\n",
    "\n",
    "Creating a basic cylindrical map using ``MapDesign``  only requires\n",
    "``mapcorners``, a list of the lower-left longitude, lower-left latitude,\n",
    "upper-right longitude, and upper-right latitude values.\n",
    "The ``standard_pm``, a list of standard parallels and meridians,\n",
    "may be passed as ``None``.\n",
    "\n",
    "\"\"\"\n",
    "mapcorners =  [-150, 15, -50, 65]\n",
    "standard_pm = None\n",
    "\n",
    "bmap_params = pysplit.MapDesign(mapcorners, standard_pm)\n",
    "\n",
    "\"\"\"\n",
    "Once the ``MapDesign`` is initialized it can be used to draw a map:\n",
    "\n",
    "\"\"\"\n",
    "bmap = bmap_params.make_basemap()\n",
    "\n",
    "\"\"\"\n",
    "Plotting ``Trajectory`` Paths\n",
    "-----------------------------\n",
    "For this example, we will color-code by initialization (t=0) altitude,\n",
    "(500, 1000, or 1500 m), which can be accessed via ``Trajectory.data.geometry``,\n",
    " a ``GeoSeries`` of Shapely ``Point`` objects.\n",
    "\n",
    "We can store the trajectory color in ``Trajectory.trajcolor`` for convenience.\n",
    "\n",
    "\"\"\"\n",
    "color_dict = {500.0 : 'blue',\n",
    "              1000.0 : 'orange',\n",
    "              1500.0 : 'black'}\n",
    "\n",
    "for traj in trajgroup:\n",
    "    altitude0 = traj.data.geometry.apply(lambda p: p.z)[0]\n",
    "    traj.trajcolor = color_dict[altitude0]\n",
    "\n",
    "\"\"\"\n",
    "For display purposes, let's plot only every fifth ``Trajectory``.  The lats,\n",
    "lons are obtained by unpacking the ``Trajectory.Path``\n",
    "(Shapely ``LineString``) xy coordinates.\n",
    "\n",
    "\"\"\"\n",
    "for traj in trajgroup[::5]:\n",
    "    bmap.plot(*traj.path.xy, c=traj.trajcolor, latlon=True, zorder=20)\n"
   ]
  }
 ],
 "metadata": {
  "kernelspec": {
   "display_name": "pysplitenv",
   "language": "python",
   "name": "python3"
  },
  "language_info": {
   "codemirror_mode": {
    "name": "ipython",
    "version": 3
   },
   "file_extension": ".py",
   "mimetype": "text/x-python",
   "name": "python",
   "nbconvert_exporter": "python",
   "pygments_lexer": "ipython3",
   "version": "3.7.12"
  }
 },
 "nbformat": 4,
 "nbformat_minor": 2
}
